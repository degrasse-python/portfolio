{
 "cells": [
  {
   "cell_type": "markdown",
   "metadata": {},
   "source": [
    "# What is the True Normal Human Body Temperature? \n",
    "\n",
    "#### Background\n",
    "\n",
    "The mean normal body temperature was held to be 37$^{\\circ}$C or 98.6$^{\\circ}$F for more than 120 years since it was first conceptualized and reported by Carl Wunderlich in a famous 1868 book. But, is this value statistically correct?"
   ]
  },
  {
   "cell_type": "markdown",
   "metadata": {},
   "source": [
    "<h3>Exercises</h3>\n",
    "\n",
    "<p>In this exercise, you will analyze a dataset of human body temperatures and employ the concepts of hypothesis testing, confidence intervals, and statistical significance.</p>\n",
    "\n",
    "<p>Answer the following questions <b>in this notebook below and submit to your Github account</b>.</p> \n",
    "\n",
    "<ol>\n",
    "<li>  Is the distribution of body temperatures normal? \n",
    "    <ul>\n",
    "    <li> Although this is not a requirement for the Central Limit Theorem to hold (read the introduction on Wikipedia's page about the CLT carefully: https://en.wikipedia.org/wiki/Central_limit_theorem), it gives us some peace of mind that the population may also be normally distributed if we assume that this sample is representative of the population.\n",
    "    <li> Think about the way you're going to check for the normality of the distribution. Graphical methods are usually used first, but there are also other ways: https://en.wikipedia.org/wiki/Normality_test\n",
    "    </ul>\n",
    "<li>  Is the sample size large? Are the observations independent?\n",
    "    <ul>\n",
    "    <li> Remember that this is a condition for the Central Limit Theorem, and hence the statistical tests we are using, to apply.\n",
    "    </ul>\n",
    "<li>  Is the true population mean really 98.6 degrees F?\n",
    "    <ul>\n",
    "    <li> First, try a bootstrap hypothesis test.\n",
    "    <li> Now, let's try frequentist statistical testing. Would you use a one-sample or two-sample test? Why?\n",
    "    <li> In this situation, is it appropriate to use the $t$ or $z$ statistic? \n",
    "    <li> Now try using the other test. How is the result be different? Why?\n",
    "    </ul>\n",
    "<li>  Draw a small sample of size 10 from the data and repeat both frequentist tests. \n",
    "    <ul>\n",
    "    <li> Which one is the correct one to use? \n",
    "    <li> What do you notice? What does this tell you about the difference in application of the $t$ and $z$ statistic?\n",
    "    </ul>\n",
    "<li>  At what temperature should we consider someone's temperature to be \"abnormal\"?\n",
    "    <ul>\n",
    "    <li> As in the previous example, try calculating everything using the boostrap approach, as well as the frequentist approach.\n",
    "    <li> Start by computing the margin of error and confidence interval. When calculating the confidence interval, keep in mind that you should use the appropriate formula for one draw, and not N draws.\n",
    "    </ul>\n",
    "<li>  Is there a significant difference between males and females in normal temperature?\n",
    "    <ul>\n",
    "    <li> What testing approach did you use and why?\n",
    "    <li> Write a story with your conclusion in the context of the original problem.\n",
    "    </ul>\n",
    "</ol>\n",
    "\n",
    "You can include written notes in notebook cells using Markdown: \n",
    "   - In the control panel at the top, choose Cell > Cell Type > Markdown\n",
    "   - Markdown syntax: http://nestacms.com/docs/creating-content/markdown-cheat-sheet\n",
    "\n",
    "#### Resources\n",
    "\n",
    "+ Information and data sources: http://www.amstat.org/publications/jse/datasets/normtemp.txt, http://www.amstat.org/publications/jse/jse_data_archive.htm\n",
    "+ Markdown syntax: http://nestacms.com/docs/creating-content/markdown-cheat-sheet\n",
    "\n",
    "****"
   ]
  },
  {
   "cell_type": "code",
   "execution_count": 34,
   "metadata": {},
   "outputs": [],
   "source": [
    "import pandas as pd\n",
    "import numpy as np\n",
    "import matplotlib.pyplot as plt\n",
    "import seaborn as sns\n",
    "import math as m\n",
    "from scipy import stats\n",
    "from scipy.stats import t as ta\n",
    "import statsmodels.stats.api as sms\n",
    "\n",
    "\n",
    "df = pd.read_csv('./EDA_data/human_body_temperature.csv')"
   ]
  },
  {
   "cell_type": "code",
   "execution_count": 2,
   "metadata": {},
   "outputs": [],
   "source": [
    "males = df[df[\"gender\"] == 'M']\n",
    "females = df[df[\"gender\"] == 'F']"
   ]
  },
  {
   "cell_type": "code",
   "execution_count": 3,
   "metadata": {},
   "outputs": [],
   "source": [
    "# here we must assume sample sigma = population sigma\n",
    "t = df.temperature.values\n",
    "t_m = males.temperature.values\n",
    "t_f = females.temperature.values\n",
    "mu = 98.6"
   ]
  },
  {
   "cell_type": "markdown",
   "metadata": {},
   "source": [
    "### Is the distribution of body temperatures normal?\n",
    "Ans: The distribution seems to be approaching normal distribution."
   ]
  },
  {
   "cell_type": "code",
   "execution_count": 4,
   "metadata": {},
   "outputs": [
    {
     "data": {
      "text/plain": [
       "<matplotlib.text.Text at 0x7f1850a88438>"
      ]
     },
     "execution_count": 4,
     "metadata": {},
     "output_type": "execute_result"
    },
    {
     "data": {
      "image/png": "[encoded data removed]",
      "text/plain": [
       "<matplotlib.figure.Figure at 0x7f1850ad6b38>"
      ]
     },
     "metadata": {},
     "output_type": "display_data"
    }
   ],
   "source": [
    "sns.distplot(t)\n",
    "plt.ylim(0,1)\n",
    "plt.xlabel(\"Temperature (F)\")\n",
    "plt.ylabel(\"P\")\n",
    "plt.title(\"Distribution of Body Temperatures\")"
   ]
  },
  {
   "cell_type": "code",
   "execution_count": 5,
   "metadata": {},
   "outputs": [
    {
     "data": {
      "text/plain": [
       "<matplotlib.axes._subplots.AxesSubplot at 0x7f1850ad2780>"
      ]
     },
     "execution_count": 5,
     "metadata": {},
     "output_type": "execute_result"
    },
    {
     "data": {
      "image/png": "[encoded data removed]",
      "text/plain": [
       "<matplotlib.figure.Figure at 0x7f1850ad26a0>"
      ]
     },
     "metadata": {},
     "output_type": "display_data"
    }
   ],
   "source": [
    "\n",
    "# Box plot of FSIQ and PIQ (different measures od IQ)\n",
    "plt.figure(figsize=(4, 3))\n",
    "df.boxplot(column=['temperature'])\n"
   ]
  },
  {
   "cell_type": "markdown",
   "metadata": {},
   "source": [
    "### Is the sample size large? Are the observations independent?\n",
    "Remember that this is a condition for the Central Limit Theorem, and hence the statistical tests we are using, to apply.\n",
    "Answer: There is no sample size requirement as the theorem only states that as a research pools more data from a population the data will approach a normal distribution with a center at the mean. Even though the sample size isn't millions of rows the size of this dataset is big enough for a test statistic. These observations are independent if and only if one observation does not effect the probability of another occurence. So, these observations are independent."
   ]
  },
  {
   "cell_type": "code",
   "execution_count": 6,
   "metadata": {},
   "outputs": [
    {
     "name": "stdout",
     "output_type": "stream",
     "text": [
      "Size of sample set is 130\n"
     ]
    }
   ],
   "source": [
    "n = len(t)\n",
    "print(\"Size of sample set is {}\".format(n))"
   ]
  },
  {
   "cell_type": "code",
   "execution_count": 17,
   "metadata": {},
   "outputs": [],
   "source": [
    "\"\"\"\n",
    "methods\n",
    "\"\"\"\n",
    "def bootstrap_replicate_1d(data, func):\n",
    "    return func(np.random.choice(data, size=len(data)))\n",
    "\n",
    "def diff_mean(data, mu=mu):\n",
    "    return np.mean(data) - mu\n",
    "\n",
    "def draw_bs_reps(data, func=np.mean, mu=0, size=1):\n",
    "    \"\"\"Draw bootstrap replicates.\"\"\"\n",
    "    # Initialize array of replicates: bs_replicates\n",
    "    bs_replicates = np.empty(size)\n",
    "\n",
    "    # Generate replicates\n",
    "    for i in range(size):\n",
    "        bs_replicates[i] = bootstrap_replicate_1d(data, func)\n",
    "    return bs_replicates\n",
    "\n",
    "def ecdf(data):\n",
    "    \"\"\"Compute ECDF for a one-dimensional array of measurements.\"\"\"\n",
    "\n",
    "    # Number of data points: n\n",
    "    n = len(data)\n",
    "\n",
    "    # x-data for the ECDF: x\n",
    "    x = np.sort(data)\n",
    "\n",
    "    # y-data for the ECDF: y\n",
    "    y = np.arange(1, 1 + n)/ n\n",
    "\n",
    "    return x, y\n"
   ]
  },
  {
   "cell_type": "markdown",
   "metadata": {},
   "source": [
    "### Hypothesis Testing: Is the true population mean really 98.6 degrees F?\n",
    "* First, try a bootstrap hypothesis test: The use of resampled data to perform statistical inference\n",
    "* Now, let's try frequentist statistical testing. Would you use a one-sample or two-sample test? Why?\n",
    "We use a one sample test since we have one feature set and are comparing it to one value : Mu = 98.6\n",
    "* In this situation, is it appropriate to use the  t  or  z  statistic? t test because we are only modeling the mean parameter.\n",
    "* Now try using the other test. How is the result be different? Why? P-Value. The result should also confirm the t test"
   ]
  },
  {
   "cell_type": "code",
   "execution_count": 18,
   "metadata": {},
   "outputs": [],
   "source": [
    "# hypothesis testing H_o: Mu = x_bar, H_a: Mu not = x_bar\n",
    "x_bar = np.mean(t)\n",
    "var = np.var(t)/n\n",
    "mu = 98.6\n",
    "# One sample test: vector and expected value in null hypothesis\n",
    "a = 0.05\n",
    "stat, p = stats.ttest_1samp(t, mu)\n",
    "sem = np.std(t) / np.sqrt(len(t))\n",
    "# for a bootstrap we shift the vector and center it at the H_o to visualize it\n",
    "new_t = t - x_bar + mu\n",
    "new_t\n",
    "d_mean = x_bar - mu\n",
    "t_o, po = stats.ttest_1samp(t, mu)\n",
    "# generate bootstrap reps: simulate \n",
    "bs_reps = draw_bs_reps(new_t, diff_mean, size=10000)\n",
    "bs_r = draw_bs_reps(t, np.mean, size=10000)\n",
    "# p value: if p < a then there is a significate difference\n",
    "t_obs, p = stats.ttest_1samp(bs_reps, mu)  \n",
    "t_crit = ta.ppf(1 - 0.025, len(bs_reps) - 1)\n",
    "# resample What is a bootstrap replicate? : A single value of a statistic computed from a bootstrap sample.\n",
    "bs_mu = np.mean(bs_reps)\n",
    "# 0.95 confidence interval\n",
    "ci = np.percentile(bs_reps, [2.5, 97.5])\n",
    "bs_sem = np.std(bs_reps) / np.sqrt(len(bs_reps))"
   ]
  },
  {
   "cell_type": "code",
   "execution_count": 19,
   "metadata": {},
   "outputs": [
    {
     "name": "stdout",
     "output_type": "stream",
     "text": [
      "Original sample: t > t critical value? False. p > alpha? False\n"
     ]
    }
   ],
   "source": [
    "print(\"Original sample: t > t critical value? {}. p > alpha? {}\".format(t_o > t_crit, po > a))"
   ]
  },
  {
   "cell_type": "code",
   "execution_count": 21,
   "metadata": {},
   "outputs": [
    {
     "name": "stdout",
     "output_type": "stream",
     "text": [
      "resample mean: -0.0003086923076731594 \n",
      "confidence interval: [-0.12615385  0.12461538] \n",
      "stnd error of mean: 0.0006401528690539382\n"
     ]
    }
   ],
   "source": [
    "print(\"resample mean: {} \\nconfidence interval: {} \\nstnd error of mean: {}\".format(bs_mu,ci, bs_sem))"
   ]
  },
  {
   "cell_type": "code",
   "execution_count": 22,
   "metadata": {},
   "outputs": [
    {
     "data": {
      "image/png": "[encoded data removed]",
      "text/plain": [
       "<matplotlib.figure.Figure at 0x7f1848aba160>"
      ]
     },
     "metadata": {},
     "output_type": "display_data"
    }
   ],
   "source": [
    "# bootstrap replicate\n",
    "#\n",
    "for _ in range(10):\n",
    "    # Generate bootstrap sample: bs_sample\n",
    "    bs_sample = np.random.choice(new_t, size=n)\n",
    "\n",
    "    # Compute and plot ECDF from bootstrap sample\n",
    "    x, y = ecdf(bs_sample)\n",
    "    _ = plt.plot(x, y, marker='.', linestyle='none',\n",
    "                 color='gray', alpha=0.1)\n",
    "\n",
    "# Compute and plot ECDF from original data\n",
    "x, y = ecdf(t)\n",
    "_ = plt.plot(x, y, marker='.')\n",
    "\n",
    "# Make margins and label axes\n",
    "plt.margins(0.02)\n",
    "_ = plt.xlabel('Temp (F)')\n",
    "_ = plt.ylabel('ECDF')\n",
    "_ = plt.title(\"Comparison between the bootstrap \\n and the sample measurements\")\n",
    "\n",
    "# Show the plot\n",
    "plt.show()\n"
   ]
  },
  {
   "cell_type": "code",
   "execution_count": 25,
   "metadata": {},
   "outputs": [
    {
     "name": "stdout",
     "output_type": "stream",
     "text": [
      "Is p > alpha? True. conclusion: reject the null hypothesis which \n",
      "indicates that the observed mean is different than the accepted mean. \n",
      "Is t > t crit? True. conclusion: reject the null hypothesis.\n"
     ]
    }
   ],
   "source": [
    "print(\"Is p > alpha? {}. conclusion: reject \".format(p < a)  + \\\n",
    "      \"the null hypothesis which \\nindicates that the observed mean is different than the accepted mean. \\n\"+\\\n",
    "      \"Is t > t crit? {}. conclusion: reject the null hypothesis.\".format(abs(t_obs) > t_crit))"
   ]
  },
  {
   "cell_type": "markdown",
   "metadata": {},
   "source": [
    "Draw a small sample of size 10 from the data and repeat both frequentist tests.\n",
    "Which one is the correct one to use?\n",
    "What do you notice? What does this tell you about the difference in application of the  t  and  z  statistic?"
   ]
  },
  {
   "cell_type": "markdown",
   "metadata": {},
   "source": [
    "#### At what temperature should we consider someone's temperature to be \"abnormal\"?\n",
    "Any temperature more than 1 standard deviation away should be considered as an abnormal temperature.\n",
    "\n",
    "As in the previous example, try calculating everything using the boostrap approach, as well as the frequentist approach.\n",
    "Start by computing the margin of error and confidence interval. When calculating the confidence interval, keep in mind that you should use the appropriate formula for one draw, and not N draws."
   ]
  },
  {
   "cell_type": "code",
   "execution_count": 31,
   "metadata": {},
   "outputs": [
    {
     "name": "stdout",
     "output_type": "stream",
     "text": [
      "Any temperature more than ~0.2 away from 98.249 is an extreme temp according to the bootstrap \n"
     ]
    },
    {
     "data": {
      "image/png": "[encoded data removed]",
      "text/plain": [
       "<matplotlib.figure.Figure at 0x7f1848a38748>"
      ]
     },
     "metadata": {},
     "output_type": "display_data"
    }
   ],
   "source": [
    "bs_r = draw_bs_reps(t, np.mean, size=10000)\n",
    "# p value: if p < a then there is a significate difference\n",
    "t_o, p = stats.ttest_1samp(bs_r, mu)  \n",
    "t_crit = ta.ppf(1 - 0.025, len(bs_r)-1)\n",
    "# resample What is a bootstrap replicate? : A single value of a statistic computed from a bootstrap sample.\n",
    "bs_mu = np.mean(bs_r)\n",
    "# 0.95 confidence interval\n",
    "ci = np.percentile(bs_r, [2.5, 97.5])\n",
    "print(\"Any temperature more than ~0.2 away from {} is an extreme temp according \".format(round(np.mean(bs_r), 3)) + \\\n",
    "      \"to the bootstrap \")\n",
    "# Boxplot of the difference\n",
    "plt.figure(figsize=(4, 3))\n",
    "plt.boxplot(bs_r)\n",
    "plt.xticks((1, ), ('Temperature', ))\n",
    "plt.ylabel(\"deviation from mean\")\n",
    "\n",
    "plt.show()\n"
   ]
  },
  {
   "cell_type": "code",
   "execution_count": null,
   "metadata": {},
   "outputs": [],
   "source": []
  },
  {
   "cell_type": "markdown",
   "metadata": {},
   "source": [
    "#### Is there a significant difference between males and females in normal temperature? \n",
    "Yes\n",
    "#### What testing approach did you use and why?\n",
    "Two sample test because these are two independent sets of observation\n",
    "#### Write a story with your conclusion in the context of the original problem."
   ]
  },
  {
   "cell_type": "code",
   "execution_count": 40,
   "metadata": {},
   "outputs": [
    {
     "name": "stdout",
     "output_type": "stream",
     "text": [
      "x_bar 1: 98.39384615384614, x_bar 2: 98.10461538461537\n",
      "Is t > crit? True. So we fail to reject the null hypothesis\n",
      "Difference of means CI: (-0.29371437771707748, -0.2784733145905875)\n"
     ]
    }
   ],
   "source": [
    "# One sample test: vector and expected value in null hypothesis\n",
    "a = 0.05\n",
    "fbar = np.mean(t_f)\n",
    "mbar = np.mean(t_m)\n",
    "\n",
    "# generate bootstrap reps: simulate \n",
    "mbs = draw_bs_reps(t_m, np.mean, size=1000)\n",
    "fbs = draw_bs_reps(t_f, np.mean, size=1000)\n",
    "\n",
    "# p value: if p < a then there is a significate difference\n",
    "tt, pp = stats.ttest_ind(mbs, fbs, equal_var=False)  \n",
    "t_crit = ta.ppf(1 - 0.025, len(mbs)-1)\n",
    "\n",
    "# 0.95 confidence interval\n",
    "cm = sms.CompareMeans(sms.DescrStatsW(mbs), sms.DescrStatsW(fbs))\n",
    "\n",
    "# System out\n",
    "print(\"x_bar 1: {}, x_bar 2: {}\".format(fbar, mbar))\n",
    "print(\"Is t > crit? {}. So we fail to reject the null hypothesis\".format(abs(tt) > t_crit))\n",
    "print(\"Difference of means CI: {}\".format(cm.tconfint_diff(alpha=a, usevar='unequal')))"
   ]
  },
  {
   "cell_type": "markdown",
   "metadata": {},
   "source": [
    "If we observe a large p-value, for example larger than 0.05 or 0.1, then we cannot reject the null hypothesis of identical average scores. If the p-value is smaller than the threshold, e.g. 1%, 5% or 10%, then we reject the null hypothesis of equal averages."
   ]
  },
  {
   "cell_type": "code",
   "execution_count": 42,
   "metadata": {},
   "outputs": [
    {
     "name": "stdout",
     "output_type": "stream",
     "text": [
      "Is p < alpha? True. conclusion: reject the null hypothesis which \n",
      "indicates a difference in expected temperature betweenmen and women. \n",
      "Is t > alpha? True. conclusion: reject the null hypothesis.\n"
     ]
    }
   ],
   "source": [
    "print(\"Is p < alpha? {}. conclusion: reject \".format(pp < a)  + \\\n",
    "      \"the null hypothesis which \\nindicates a difference in expected temperature between\" +\\\n",
    "      \"men and women. \\n\"+\\\n",
    "      \"Is t > alpha? {}. conclusion: reject the null hypothesis.\".format(abs(tt) > t_crit))"
   ]
  },
  {
   "cell_type": "code",
   "execution_count": null,
   "metadata": {},
   "outputs": [],
   "source": []
  },
  {
   "cell_type": "code",
   "execution_count": null,
   "metadata": {},
   "outputs": [],
   "source": []
  },
  {
   "cell_type": "code",
   "execution_count": null,
   "metadata": {},
   "outputs": [],
   "source": []
  },
  {
   "cell_type": "code",
   "execution_count": null,
   "metadata": {},
   "outputs": [],
   "source": []
  }
 ],
 "metadata": {
  "kernelspec": {
   "display_name": "Python 3",
   "language": "python",
   "name": "python3"
  },
  "language_info": {
   "codemirror_mode": {
    "name": "ipython",
    "version": 3
   },
   "file_extension": ".py",
   "mimetype": "text/x-python",
   "name": "python",
   "nbconvert_exporter": "python",
   "pygments_lexer": "ipython3",
   "version": "3.6.2"
  }
 },
 "nbformat": 4,
 "nbformat_minor": 1
}
