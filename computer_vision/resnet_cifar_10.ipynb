{
 "cells": [
  {
   "cell_type": "code",
   "execution_count": 1,
   "metadata": {
    "scrolled": true
   },
   "outputs": [
    {
     "name": "stdout",
     "output_type": "stream",
     "text": [
      "[name: \"/device:CPU:0\"\n",
      "device_type: \"CPU\"\n",
      "memory_limit: 268435456\n",
      "locality {\n",
      "}\n",
      "incarnation: 11104686485340238076\n",
      ", name: \"/device:GPU:0\"\n",
      "device_type: \"GPU\"\n",
      "memory_limit: 3150367948\n",
      "locality {\n",
      "  bus_id: 1\n",
      "  links {\n",
      "  }\n",
      "}\n",
      "incarnation: 4578382067391761611\n",
      "physical_device_desc: \"device: 0, name: GeForce GTX 1050 Ti, pci bus id: 0000:01:00.0, compute capability: 6.1\"\n",
      "]\n"
     ]
    }
   ],
   "source": [
    "from tensorflow.python.client import device_lib\n",
    "import tensorflow as tf\n",
    "print(device_lib.list_local_devices())"
   ]
  },
  {
   "cell_type": "code",
   "execution_count": 2,
   "metadata": {},
   "outputs": [
    {
     "name": "stderr",
     "output_type": "stream",
     "text": [
      "Using TensorFlow backend.\n"
     ]
    }
   ],
   "source": [
    "from __future__ import print_function\n",
    "from keras.datasets import cifar10\n",
    "from keras.preprocessing.image import ImageDataGenerator\n",
    "from keras.utils import np_utils\n",
    "from keras.callbacks import ReduceLROnPlateau, CSVLogger, EarlyStopping\n",
    "from sklearn.metrics import classification_report, confusion_matrix\n",
    "import keras.backend as K\n",
    "import matplotlib.pyplot as plt\n",
    "import numpy as np\n",
    "import ResNetModel"
   ]
  },
  {
   "cell_type": "code",
   "execution_count": 3,
   "metadata": {},
   "outputs": [
    {
     "name": "stdout",
     "output_type": "stream",
     "text": [
      "['/job:localhost/replica:0/task:0/device:GPU:0']\n"
     ]
    }
   ],
   "source": [
    "print(K.tensorflow_backend._get_available_gpus())"
   ]
  },
  {
   "cell_type": "code",
   "execution_count": 4,
   "metadata": {},
   "outputs": [
    {
     "name": "stdout",
     "output_type": "stream",
     "text": [
      "WARNING:tensorflow:From C:\\ProgramData\\Anaconda2\\envs\\stats\\lib\\site-packages\\tensorflow\\python\\framework\\op_def_library.py:263: colocate_with (from tensorflow.python.framework.ops) is deprecated and will be removed in a future version.\n",
      "Instructions for updating:\n",
      "Colocations handled automatically by placer.\n",
      "Using real-time data augmentation.\n"
     ]
    },
    {
     "name": "stderr",
     "output_type": "stream",
     "text": [
      "C:\\ProgramData\\Anaconda2\\envs\\stats\\lib\\site-packages\\ipykernel_launcher.py:69: UserWarning: Update your `fit_generator` call to the Keras 2 API: `fit_generator(<keras_pre..., steps_per_epoch=1562, validation_data=(array([[[..., epochs=100, verbose=1, callbacks=[<keras.ca..., max_queue_size=100)`\n"
     ]
    },
    {
     "name": "stdout",
     "output_type": "stream",
     "text": [
      "WARNING:tensorflow:From C:\\ProgramData\\Anaconda2\\envs\\stats\\lib\\site-packages\\tensorflow\\python\\ops\\math_ops.py:3066: to_int32 (from tensorflow.python.ops.math_ops) is deprecated and will be removed in a future version.\n",
      "Instructions for updating:\n",
      "Use tf.cast instead.\n",
      "Epoch 1/100\n",
      "1562/1562 [==============================] - 278s 178ms/step - loss: 3.9205 - acc: 0.4395 - val_loss: 2.3031 - val_acc: 0.5490\n",
      "Epoch 2/100\n",
      "1562/1562 [==============================] - 251s 161ms/step - loss: 2.1162 - acc: 0.5330 - val_loss: 2.0569 - val_acc: 0.5241\n",
      "Epoch 3/100\n",
      "1562/1562 [==============================] - 250s 160ms/step - loss: 1.9095 - acc: 0.5463 - val_loss: 1.7875 - val_acc: 0.5505\n",
      "Epoch 4/100\n",
      "1562/1562 [==============================] - 251s 161ms/step - loss: 1.6830 - acc: 0.5922 - val_loss: 1.8678 - val_acc: 0.5701\n",
      "Epoch 5/100\n",
      "1562/1562 [==============================] - 252s 161ms/step - loss: 1.5647 - acc: 0.6195 - val_loss: 1.4280 - val_acc: 0.6487\n",
      "Epoch 6/100\n",
      "1562/1562 [==============================] - 254s 163ms/step - loss: 1.4010 - acc: 0.6505 - val_loss: 1.4016 - val_acc: 0.6536\n",
      "Epoch 7/100\n",
      "1562/1562 [==============================] - 251s 160ms/step - loss: 1.3193 - acc: 0.6695 - val_loss: 1.2004 - val_acc: 0.7030\n",
      "Epoch 8/100\n",
      "1562/1562 [==============================] - 249s 160ms/step - loss: 1.2463 - acc: 0.6860 - val_loss: 1.1905 - val_acc: 0.7022\n",
      "Epoch 9/100\n",
      "1562/1562 [==============================] - 250s 160ms/step - loss: 1.1937 - acc: 0.6991 - val_loss: 1.1361 - val_acc: 0.7100\n",
      "Epoch 10/100\n",
      "1562/1562 [==============================] - 250s 160ms/step - loss: 1.1547 - acc: 0.7106 - val_loss: 1.1781 - val_acc: 0.6986\n",
      "Epoch 11/100\n",
      "1562/1562 [==============================] - 251s 161ms/step - loss: 1.1067 - acc: 0.7205 - val_loss: 1.0446 - val_acc: 0.7425\n",
      "Epoch 12/100\n",
      "1562/1562 [==============================] - 250s 160ms/step - loss: 1.0815 - acc: 0.7311 - val_loss: 1.1084 - val_acc: 0.7221\n",
      "Epoch 13/100\n",
      "1562/1562 [==============================] - 250s 160ms/step - loss: 1.0454 - acc: 0.7427 - val_loss: 1.0317 - val_acc: 0.7414\n",
      "Epoch 14/100\n",
      "1562/1562 [==============================] - 251s 160ms/step - loss: 1.0264 - acc: 0.7462 - val_loss: 1.1150 - val_acc: 0.7180\n",
      "Epoch 15/100\n",
      "1562/1562 [==============================] - 249s 160ms/step - loss: 1.0050 - acc: 0.7534 - val_loss: 1.2460 - val_acc: 0.6926\n",
      "Epoch 16/100\n",
      "1562/1562 [==============================] - 249s 160ms/step - loss: 0.9875 - acc: 0.7562 - val_loss: 0.9921 - val_acc: 0.7607\n",
      "Epoch 17/100\n",
      "1562/1562 [==============================] - 252s 161ms/step - loss: 0.9700 - acc: 0.7637 - val_loss: 1.0900 - val_acc: 0.7250\n",
      "Epoch 18/100\n",
      "1562/1562 [==============================] - 254s 162ms/step - loss: 0.9525 - acc: 0.7709 - val_loss: 0.9780 - val_acc: 0.7618\n",
      "Epoch 19/100\n",
      "1562/1562 [==============================] - 251s 161ms/step - loss: 0.9359 - acc: 0.7744 - val_loss: 0.9878 - val_acc: 0.7616\n",
      "Epoch 20/100\n",
      "1562/1562 [==============================] - 249s 160ms/step - loss: 0.9372 - acc: 0.7748 - val_loss: 0.9692 - val_acc: 0.7688\n",
      "Epoch 21/100\n",
      "1562/1562 [==============================] - 249s 160ms/step - loss: 0.9253 - acc: 0.7801 - val_loss: 0.9783 - val_acc: 0.7592\n",
      "Epoch 22/100\n",
      "1562/1562 [==============================] - 250s 160ms/step - loss: 0.9054 - acc: 0.7849 - val_loss: 0.9539 - val_acc: 0.7692\n",
      "Epoch 23/100\n",
      "1562/1562 [==============================] - 250s 160ms/step - loss: 0.9069 - acc: 0.7853 - val_loss: 0.9355 - val_acc: 0.7750\n",
      "Epoch 24/100\n",
      "1562/1562 [==============================] - 251s 160ms/step - loss: 0.8943 - acc: 0.7878 - val_loss: 0.9959 - val_acc: 0.7606\n",
      "Epoch 25/100\n",
      "1562/1562 [==============================] - 251s 161ms/step - loss: 0.8823 - acc: 0.7956 - val_loss: 0.9415 - val_acc: 0.7762\n",
      "Epoch 26/100\n",
      "1562/1562 [==============================] - 253s 162ms/step - loss: 0.8765 - acc: 0.7943 - val_loss: 0.9150 - val_acc: 0.7817\n",
      "Epoch 27/100\n",
      "1562/1562 [==============================] - 253s 162ms/step - loss: 0.8772 - acc: 0.7959 - val_loss: 1.0302 - val_acc: 0.7508\n",
      "Epoch 28/100\n",
      "1562/1562 [==============================] - 251s 160ms/step - loss: 0.8617 - acc: 0.8011 - val_loss: 0.9078 - val_acc: 0.7886\n",
      "Epoch 29/100\n",
      "1562/1562 [==============================] - 249s 160ms/step - loss: 0.8590 - acc: 0.8034 - val_loss: 0.9730 - val_acc: 0.7701\n",
      "Epoch 30/100\n",
      "1562/1562 [==============================] - 249s 159ms/step - loss: 0.8531 - acc: 0.8047 - val_loss: 0.8778 - val_acc: 0.7981\n",
      "Epoch 31/100\n",
      "1562/1562 [==============================] - 249s 159ms/step - loss: 0.8447 - acc: 0.8085 - val_loss: 0.9189 - val_acc: 0.7826\n",
      "Epoch 32/100\n",
      "1562/1562 [==============================] - 249s 159ms/step - loss: 0.8459 - acc: 0.8054 - val_loss: 0.8751 - val_acc: 0.7914\n",
      "Epoch 33/100\n",
      "1562/1562 [==============================] - 249s 159ms/step - loss: 0.8380 - acc: 0.8096 - val_loss: 0.9293 - val_acc: 0.7786\n",
      "Epoch 34/100\n",
      "1562/1562 [==============================] - 250s 160ms/step - loss: 0.8231 - acc: 0.8141 - val_loss: 0.8675 - val_acc: 0.8031\n",
      "Epoch 35/100\n",
      "1562/1562 [==============================] - 254s 162ms/step - loss: 0.8332 - acc: 0.8106 - val_loss: 0.9187 - val_acc: 0.7850\n",
      "Epoch 36/100\n",
      "1562/1562 [==============================] - 253s 162ms/step - loss: 0.8272 - acc: 0.8107 - val_loss: 0.8925 - val_acc: 0.7922\n",
      "Epoch 37/100\n",
      "1562/1562 [==============================] - 253s 162ms/step - loss: 0.8232 - acc: 0.8127 - val_loss: 0.8689 - val_acc: 0.8006\n",
      "Epoch 38/100\n",
      "1562/1562 [==============================] - 253s 162ms/step - loss: 0.8165 - acc: 0.8160 - val_loss: 0.8844 - val_acc: 0.7980\n",
      "Epoch 39/100\n",
      "1562/1562 [==============================] - 253s 162ms/step - loss: 0.8188 - acc: 0.8171 - val_loss: 0.8861 - val_acc: 0.7977\n",
      "Epoch 40/100\n",
      "1562/1562 [==============================] - 253s 162ms/step - loss: 0.6843 - acc: 0.8589 - val_loss: 0.7587 - val_acc: 0.8302\n",
      "Epoch 41/100\n",
      "1562/1562 [==============================] - 253s 162ms/step - loss: 0.6394 - acc: 0.8667 - val_loss: 0.7771 - val_acc: 0.8283\n",
      "Epoch 42/100\n",
      "1562/1562 [==============================] - 253s 162ms/step - loss: 0.6241 - acc: 0.8695 - val_loss: 0.7358 - val_acc: 0.8314\n",
      "Epoch 43/100\n",
      "1562/1562 [==============================] - 253s 162ms/step - loss: 0.5968 - acc: 0.8774 - val_loss: 0.7267 - val_acc: 0.8398\n",
      "Epoch 44/100\n",
      "1562/1562 [==============================] - 253s 162ms/step - loss: 0.5805 - acc: 0.8820 - val_loss: 0.7262 - val_acc: 0.8352\n",
      "Epoch 45/100\n",
      "1562/1562 [==============================] - 253s 162ms/step - loss: 0.5742 - acc: 0.8807 - val_loss: 0.7334 - val_acc: 0.8351\n",
      "Epoch 46/100\n",
      "1562/1562 [==============================] - 253s 162ms/step - loss: 0.5569 - acc: 0.8867 - val_loss: 0.7279 - val_acc: 0.8356\n",
      "Epoch 47/100\n",
      "1562/1562 [==============================] - 253s 162ms/step - loss: 0.5465 - acc: 0.8888 - val_loss: 0.7365 - val_acc: 0.8314\n",
      "Epoch 48/100\n",
      "1562/1562 [==============================] - 253s 162ms/step - loss: 0.5466 - acc: 0.8867 - val_loss: 0.7772 - val_acc: 0.8254\n",
      "Epoch 49/100\n",
      "1562/1562 [==============================] - 253s 162ms/step - loss: 0.5321 - acc: 0.8918 - val_loss: 0.6964 - val_acc: 0.8422\n",
      "Epoch 50/100\n",
      "1562/1562 [==============================] - 254s 162ms/step - loss: 0.5271 - acc: 0.8929 - val_loss: 0.7582 - val_acc: 0.8250\n",
      "Epoch 51/100\n",
      "1562/1562 [==============================] - 255s 163ms/step - loss: 0.5230 - acc: 0.8935 - val_loss: 0.7200 - val_acc: 0.8360\n",
      "Epoch 52/100\n",
      "1562/1562 [==============================] - 255s 163ms/step - loss: 0.5096 - acc: 0.8957 - val_loss: 0.7210 - val_acc: 0.8360\n",
      "Epoch 53/100\n",
      "1562/1562 [==============================] - 255s 163ms/step - loss: 0.5093 - acc: 0.8952 - val_loss: 0.7013 - val_acc: 0.8375\n",
      "Epoch 54/100\n",
      "1562/1562 [==============================] - 256s 164ms/step - loss: 0.5048 - acc: 0.8978 - val_loss: 0.7620 - val_acc: 0.8260\n",
      "Epoch 55/100\n",
      "1562/1562 [==============================] - 250s 160ms/step - loss: 0.4507 - acc: 0.9141 - val_loss: 0.6737 - val_acc: 0.8494\n",
      "Epoch 56/100\n",
      "1562/1562 [==============================] - 250s 160ms/step - loss: 0.4291 - acc: 0.9215 - val_loss: 0.6893 - val_acc: 0.8498\n",
      "Epoch 57/100\n"
     ]
    },
    {
     "name": "stdout",
     "output_type": "stream",
     "text": [
      "1562/1562 [==============================] - 249s 159ms/step - loss: 0.4229 - acc: 0.9237 - val_loss: 0.6702 - val_acc: 0.8557\n",
      "Epoch 58/100\n",
      "1562/1562 [==============================] - 249s 159ms/step - loss: 0.4103 - acc: 0.9265 - val_loss: 0.6777 - val_acc: 0.8516\n",
      "Epoch 59/100\n",
      "1562/1562 [==============================] - 249s 159ms/step - loss: 0.4077 - acc: 0.9270 - val_loss: 0.6811 - val_acc: 0.8527\n",
      "Epoch 60/100\n",
      "1562/1562 [==============================] - 249s 159ms/step - loss: 0.4053 - acc: 0.9271 - val_loss: 0.6721 - val_acc: 0.8527\n",
      "Epoch 61/100\n",
      "1562/1562 [==============================] - 251s 161ms/step - loss: 0.3920 - acc: 0.9309 - val_loss: 0.6894 - val_acc: 0.8462\n",
      "Epoch 62/100\n",
      "1562/1562 [==============================] - 250s 160ms/step - loss: 0.3871 - acc: 0.9327 - val_loss: 0.6839 - val_acc: 0.8496\n",
      "Epoch 63/100\n",
      "1562/1562 [==============================] - 250s 160ms/step - loss: 0.3744 - acc: 0.9373 - val_loss: 0.6688 - val_acc: 0.8551\n",
      "Epoch 64/100\n",
      "1562/1562 [==============================] - 250s 160ms/step - loss: 0.3681 - acc: 0.9383 - val_loss: 0.6723 - val_acc: 0.8558\n",
      "Epoch 65/100\n",
      "1562/1562 [==============================] - 251s 161ms/step - loss: 0.3646 - acc: 0.9408 - val_loss: 0.6726 - val_acc: 0.8571\n",
      "Epoch 66/100\n",
      "1562/1562 [==============================] - 251s 161ms/step - loss: 0.3599 - acc: 0.9413 - val_loss: 0.6713 - val_acc: 0.8556\n",
      "Epoch 67/100\n",
      "1562/1562 [==============================] - 250s 160ms/step - loss: 0.3576 - acc: 0.9417 - val_loss: 0.6749 - val_acc: 0.8560\n",
      "Epoch 68/100\n",
      "1562/1562 [==============================] - 251s 160ms/step - loss: 0.3601 - acc: 0.9401 - val_loss: 0.6767 - val_acc: 0.8557\n",
      "Epoch 69/100\n",
      "1562/1562 [==============================] - 251s 161ms/step - loss: 0.3527 - acc: 0.9435 - val_loss: 0.6726 - val_acc: 0.8564\n",
      "Epoch 70/100\n",
      "1562/1562 [==============================] - 252s 161ms/step - loss: 0.3490 - acc: 0.9444 - val_loss: 0.6766 - val_acc: 0.8573\n",
      "Epoch 71/100\n",
      "1562/1562 [==============================] - 252s 161ms/step - loss: 0.3473 - acc: 0.9454 - val_loss: 0.6761 - val_acc: 0.8552\n",
      "Epoch 72/100\n",
      "1562/1562 [==============================] - 252s 161ms/step - loss: 0.3437 - acc: 0.9465 - val_loss: 0.6774 - val_acc: 0.8548\n",
      "Epoch 73/100\n",
      "1562/1562 [==============================] - 252s 161ms/step - loss: 0.3420 - acc: 0.9465 - val_loss: 0.6771 - val_acc: 0.8569\n"
     ]
    }
   ],
   "source": [
    "lr_reducer = ReduceLROnPlateau(factor=np.sqrt(0.1), cooldown=0, patience=5, min_lr=0.5e-6)\n",
    "early_stopper = EarlyStopping(min_delta=0.001, patience=10)\n",
    "csv_logger = CSVLogger('./data/resnet50_cifar10.csv')\n",
    "\n",
    "batch_size = 32\n",
    "nb_classes = 10\n",
    "nb_epoch = 100\n",
    "data_augmentation = True\n",
    "\n",
    "# input image dimensions\n",
    "img_rows, img_cols = 32, 32\n",
    "# The CIFAR10 images are RGB.\n",
    "img_channels = 3\n",
    "\n",
    "# The data, shuffled and split between train and test sets:\n",
    "(X_train, y_train), (X_test, y_test) = cifar10.load_data()\n",
    "\n",
    "# Convert class vectors to binary class matrices.\n",
    "Y_train = np_utils.to_categorical(y_train, nb_classes)\n",
    "Y_test = np_utils.to_categorical(y_test, nb_classes)\n",
    "\n",
    "X_train = X_train.astype('float32')\n",
    "X_test = X_test.astype('float32')\n",
    "\n",
    "# subtract mean and normalize\n",
    "mean_image = np.mean(X_train, axis=0)\n",
    "X_train -= mean_image\n",
    "X_test -= mean_image\n",
    "X_train /= 128.\n",
    "X_test /= 128.\n",
    "\n",
    "model = ResNetModel.ResnetBuilder.build_resnet_50((img_channels, img_rows, img_cols), nb_classes)\n",
    "model.compile(loss='categorical_crossentropy',\n",
    "              optimizer='adam',\n",
    "              metrics=['accuracy'])\n",
    "# model = multi_gpu_model(model, gpus=G)\n",
    "if not data_augmentation:\n",
    "    print('Not using data augmentation.')\n",
    "    model.fit(X_train[:37500], Y_train[:37500],\n",
    "              batch_size=batch_size,\n",
    "              nb_epoch=nb_epoch,\n",
    "              validation_data=(X_train[37500:], Y_train[37500:]),\n",
    "              shuffle=True,\n",
    "              callbacks=[lr_reducer, early_stopper, csv_logger])\n",
    "else:\n",
    "    print('Using real-time data augmentation.')\n",
    "    # This will do preprocessing and realtime data augmentation:\n",
    "    datagen = ImageDataGenerator(\n",
    "        featurewise_center=False,  # set input mean to 0 over the dataset\n",
    "        samplewise_center=False,  # set each sample mean to 0\n",
    "        featurewise_std_normalization=False,  # divide inputs by std of the dataset\n",
    "        samplewise_std_normalization=False,  # divide each input by its std\n",
    "        zca_whitening=False,  # apply ZCA whitening\n",
    "        rotation_range=0,  # randomly rotate images in the range (degrees, 0 to 180)\n",
    "        width_shift_range=0.1,  # randomly shift images horizontally (fraction of total width)\n",
    "        height_shift_range=0.1,  # randomly shift images vertically (fraction of total height)\n",
    "        horizontal_flip=True,  # randomly flip images\n",
    "        vertical_flip=False)  # randomly flip images\n",
    "\n",
    "    # Compute quantities required for featurewise normalization\n",
    "    # (std, mean, and principal components if ZCA whitening is applied).\n",
    "    datagen.fit(X_train)\n",
    "\n",
    "    # Fit the model on the batches generated by datagen.flow().\n",
    "    history = model.fit_generator(datagen.flow(X_train[:37500], Y_train[:37500], batch_size=batch_size),\n",
    "                        steps_per_epoch=X_train.shape[0] // batch_size,\n",
    "                        validation_data=(X_train[37500:], Y_train[37500:]),\n",
    "                        epochs=nb_epoch, verbose=1, max_q_size=100,\n",
    "                        callbacks=[lr_reducer, early_stopper, csv_logger])\n"
   ]
  },
  {
   "cell_type": "code",
   "execution_count": 15,
   "metadata": {},
   "outputs": [
    {
     "data": {
      "image/png": "[encoded data removed]",
      "text/plain": [
       "<Figure size 432x288 with 1 Axes>"
      ]
     },
     "metadata": {
      "needs_background": "light"
     },
     "output_type": "display_data"
    },
    {
     "data": {
      "image/png": "[encoded data removed]",
      "text/plain": [
       "<Figure size 432x288 with 1 Axes>"
      ]
     },
     "metadata": {
      "needs_background": "light"
     },
     "output_type": "display_data"
    }
   ],
   "source": [
    "plt.plot(history.history['acc'])\n",
    "plt.plot(history.history['val_acc'])\n",
    "plt.title('model accuracy')\n",
    "plt.ylabel('accuracy')\n",
    "plt.xlabel('epoch')\n",
    "plt.legend(['train', 'test'], loc='upper left')\n",
    "plt.savefig('./data/figs/resnet50_accuracy.jpg')\n",
    "plt.show()\n",
    "\n",
    "# summarize history for loss\n",
    "plt.plot(history.history['loss'])\n",
    "plt.plot(history.history['val_loss'])\n",
    "plt.title('model loss')\n",
    "plt.ylabel('loss')\n",
    "plt.xlabel('epoch')\n",
    "plt.legend(['train', 'test'], loc='upper left')\n",
    "plt.savefig('./data/figs/resnet50_loss.jpg')\n",
    "plt.show()\n"
   ]
  },
  {
   "cell_type": "code",
   "execution_count": 25,
   "metadata": {},
   "outputs": [
    {
     "name": "stdout",
     "output_type": "stream",
     "text": [
      "[[0. 0. 0. ... 0. 0. 0.]\n",
      " [0. 0. 0. ... 0. 1. 0.]\n",
      " [0. 0. 0. ... 0. 1. 0.]\n",
      " ...\n",
      " [0. 0. 0. ... 0. 0. 0.]\n",
      " [0. 1. 0. ... 0. 0. 0.]\n",
      " [0. 0. 0. ... 1. 0. 0.]]\n",
      "[[[1. 0. 0. ... 0. 0. 0.]\n",
      "  [1. 0. 0. ... 0. 0. 0.]\n",
      "  [1. 0. 0. ... 0. 0. 0.]\n",
      "  ...\n",
      "  [1. 0. 0. ... 0. 0. 0.]\n",
      "  [1. 0. 0. ... 0. 0. 0.]\n",
      "  [1. 0. 0. ... 0. 0. 0.]]\n",
      "\n",
      " [[1. 0. 0. ... 0. 0. 0.]\n",
      "  [1. 0. 0. ... 0. 0. 0.]\n",
      "  [1. 0. 0. ... 0. 0. 0.]\n",
      "  ...\n",
      "  [1. 0. 0. ... 0. 0. 0.]\n",
      "  [1. 0. 0. ... 0. 0. 0.]\n",
      "  [1. 0. 0. ... 0. 0. 0.]]\n",
      "\n",
      " [[1. 0. 0. ... 0. 0. 0.]\n",
      "  [1. 0. 0. ... 0. 0. 0.]\n",
      "  [1. 0. 0. ... 0. 0. 0.]\n",
      "  ...\n",
      "  [1. 0. 0. ... 0. 0. 0.]\n",
      "  [1. 0. 0. ... 0. 0. 0.]\n",
      "  [1. 0. 0. ... 0. 0. 0.]]\n",
      "\n",
      " ...\n",
      "\n",
      " [[1. 0. 0. ... 0. 0. 0.]\n",
      "  [1. 0. 0. ... 0. 0. 0.]\n",
      "  [1. 0. 0. ... 0. 0. 0.]\n",
      "  ...\n",
      "  [1. 0. 0. ... 0. 0. 0.]\n",
      "  [1. 0. 0. ... 0. 0. 0.]\n",
      "  [1. 0. 0. ... 0. 0. 0.]]\n",
      "\n",
      " [[1. 0. 0. ... 0. 0. 0.]\n",
      "  [1. 0. 0. ... 0. 0. 0.]\n",
      "  [1. 0. 0. ... 0. 0. 0.]\n",
      "  ...\n",
      "  [1. 0. 0. ... 0. 0. 0.]\n",
      "  [1. 0. 0. ... 0. 0. 0.]\n",
      "  [1. 0. 0. ... 0. 0. 0.]]\n",
      "\n",
      " [[1. 0. 0. ... 0. 0. 0.]\n",
      "  [1. 0. 0. ... 0. 0. 0.]\n",
      "  [1. 0. 0. ... 0. 0. 0.]\n",
      "  ...\n",
      "  [1. 0. 0. ... 0. 0. 0.]\n",
      "  [0. 1. 0. ... 0. 0. 0.]\n",
      "  [1. 0. 0. ... 0. 0. 0.]]]\n"
     ]
    }
   ],
   "source": [
    "print(Y_test)\n",
    "print(y_pred)"
   ]
  },
  {
   "cell_type": "code",
   "execution_count": 16,
   "metadata": {},
   "outputs": [
    {
     "name": "stdout",
     "output_type": "stream",
     "text": [
      "Confusion Matrix\n"
     ]
    },
    {
     "ename": "ValueError",
     "evalue": "Classification metrics can't handle a mix of multilabel-indicator and multiclass targets",
     "output_type": "error",
     "traceback": [
      "\u001b[1;31m---------------------------------------------------------------------------\u001b[0m",
      "\u001b[1;31mValueError\u001b[0m                                Traceback (most recent call last)",
      "\u001b[1;32m<ipython-input-16-88d7950b198f>\u001b[0m in \u001b[0;36m<module>\u001b[1;34m\u001b[0m\n\u001b[0;32m     17\u001b[0m \u001b[0my_pred\u001b[0m \u001b[1;33m=\u001b[0m \u001b[0mnp\u001b[0m\u001b[1;33m.\u001b[0m\u001b[0margmax\u001b[0m\u001b[1;33m(\u001b[0m\u001b[0mY_pred\u001b[0m\u001b[1;33m,\u001b[0m \u001b[0maxis\u001b[0m\u001b[1;33m=\u001b[0m\u001b[1;36m1\u001b[0m\u001b[1;33m)\u001b[0m\u001b[1;33m\u001b[0m\u001b[1;33m\u001b[0m\u001b[0m\n\u001b[0;32m     18\u001b[0m \u001b[0mprint\u001b[0m\u001b[1;33m(\u001b[0m\u001b[1;34m'Confusion Matrix'\u001b[0m\u001b[1;33m)\u001b[0m\u001b[1;33m\u001b[0m\u001b[1;33m\u001b[0m\u001b[0m\n\u001b[1;32m---> 19\u001b[1;33m \u001b[0mprint\u001b[0m\u001b[1;33m(\u001b[0m\u001b[0mconfusion_matrix\u001b[0m\u001b[1;33m(\u001b[0m\u001b[0mY_test\u001b[0m\u001b[1;33m,\u001b[0m \u001b[0my_pred\u001b[0m\u001b[1;33m)\u001b[0m\u001b[1;33m)\u001b[0m\u001b[1;33m\u001b[0m\u001b[1;33m\u001b[0m\u001b[0m\n\u001b[0m\u001b[0;32m     20\u001b[0m \u001b[0mprint\u001b[0m\u001b[1;33m(\u001b[0m\u001b[1;34m'Classification Report'\u001b[0m\u001b[1;33m)\u001b[0m\u001b[1;33m\u001b[0m\u001b[1;33m\u001b[0m\u001b[0m\n\u001b[0;32m     21\u001b[0m target_names = [\"airplane \",\"automobile\" ,\"bird\" ,\"cat\" ,\n",
      "\u001b[1;32mC:\\ProgramData\\Anaconda2\\envs\\stats\\lib\\site-packages\\sklearn\\metrics\\classification.py\u001b[0m in \u001b[0;36mconfusion_matrix\u001b[1;34m(y_true, y_pred, labels, sample_weight)\u001b[0m\n\u001b[0;32m    251\u001b[0m \u001b[1;33m\u001b[0m\u001b[0m\n\u001b[0;32m    252\u001b[0m     \"\"\"\n\u001b[1;32m--> 253\u001b[1;33m     \u001b[0my_type\u001b[0m\u001b[1;33m,\u001b[0m \u001b[0my_true\u001b[0m\u001b[1;33m,\u001b[0m \u001b[0my_pred\u001b[0m \u001b[1;33m=\u001b[0m \u001b[0m_check_targets\u001b[0m\u001b[1;33m(\u001b[0m\u001b[0my_true\u001b[0m\u001b[1;33m,\u001b[0m \u001b[0my_pred\u001b[0m\u001b[1;33m)\u001b[0m\u001b[1;33m\u001b[0m\u001b[1;33m\u001b[0m\u001b[0m\n\u001b[0m\u001b[0;32m    254\u001b[0m     \u001b[1;32mif\u001b[0m \u001b[0my_type\u001b[0m \u001b[1;32mnot\u001b[0m \u001b[1;32min\u001b[0m \u001b[1;33m(\u001b[0m\u001b[1;34m\"binary\"\u001b[0m\u001b[1;33m,\u001b[0m \u001b[1;34m\"multiclass\"\u001b[0m\u001b[1;33m)\u001b[0m\u001b[1;33m:\u001b[0m\u001b[1;33m\u001b[0m\u001b[1;33m\u001b[0m\u001b[0m\n\u001b[0;32m    255\u001b[0m         \u001b[1;32mraise\u001b[0m \u001b[0mValueError\u001b[0m\u001b[1;33m(\u001b[0m\u001b[1;34m\"%s is not supported\"\u001b[0m \u001b[1;33m%\u001b[0m \u001b[0my_type\u001b[0m\u001b[1;33m)\u001b[0m\u001b[1;33m\u001b[0m\u001b[1;33m\u001b[0m\u001b[0m\n",
      "\u001b[1;32mC:\\ProgramData\\Anaconda2\\envs\\stats\\lib\\site-packages\\sklearn\\metrics\\classification.py\u001b[0m in \u001b[0;36m_check_targets\u001b[1;34m(y_true, y_pred)\u001b[0m\n\u001b[0;32m     79\u001b[0m     \u001b[1;32mif\u001b[0m \u001b[0mlen\u001b[0m\u001b[1;33m(\u001b[0m\u001b[0my_type\u001b[0m\u001b[1;33m)\u001b[0m \u001b[1;33m>\u001b[0m \u001b[1;36m1\u001b[0m\u001b[1;33m:\u001b[0m\u001b[1;33m\u001b[0m\u001b[1;33m\u001b[0m\u001b[0m\n\u001b[0;32m     80\u001b[0m         raise ValueError(\"Classification metrics can't handle a mix of {0} \"\n\u001b[1;32m---> 81\u001b[1;33m                          \"and {1} targets\".format(type_true, type_pred))\n\u001b[0m\u001b[0;32m     82\u001b[0m \u001b[1;33m\u001b[0m\u001b[0m\n\u001b[0;32m     83\u001b[0m     \u001b[1;31m# We can't have more than one value on y_type => The set is no more needed\u001b[0m\u001b[1;33m\u001b[0m\u001b[1;33m\u001b[0m\u001b[1;33m\u001b[0m\u001b[0m\n",
      "\u001b[1;31mValueError\u001b[0m: Classification metrics can't handle a mix of multilabel-indicator and multiclass targets"
     ]
    }
   ],
   "source": [
    "test_datagen = ImageDataGenerator(\n",
    "                featurewise_center=False,  # set input mean to 0 over the dataset\n",
    "                samplewise_center=False,  # set each sample mean to 0\n",
    "                featurewise_std_normalization=False,  # divide inputs by std of the dataset\n",
    "                samplewise_std_normalization=False,  # divide each input by its std\n",
    "                zca_whitening=False,  # apply ZCA whitening\n",
    "                rotation_range=0,  # randomly rotate images in the range (degrees, 0 to 180)\n",
    "                width_shift_range=0.1,  # randomly shift images horizontally (fraction of total width)\n",
    "                height_shift_range=0.1,  # randomly shift images vertically (fraction of total height)\n",
    "                horizontal_flip=True,  # randomly flip images\n",
    "                vertical_flip=False)  # randomly flip images\n",
    "\n",
    "validation_gen = test_datagen.flow(X_test, Y_test, batch_size=1)\n",
    "#Confution Matrix and Classification Report\n",
    "Y_pred = model.predict_generator(validation_gen, \n",
    "                                 10000)\n",
    "y_pred = np.argmax(Y_pred, axis=1)"
   ]
  },
  {
   "cell_type": "code",
   "execution_count": 24,
   "metadata": {},
   "outputs": [
    {
     "name": "stdout",
     "output_type": "stream",
     "text": [
      "Classification Report\n"
     ]
    },
    {
     "ename": "ValueError",
     "evalue": "Classification metrics can't handle a mix of multilabel-indicator and unknown targets",
     "output_type": "error",
     "traceback": [
      "\u001b[1;31m---------------------------------------------------------------------------\u001b[0m",
      "\u001b[1;31mValueError\u001b[0m                                Traceback (most recent call last)",
      "\u001b[1;32m<ipython-input-24-73b9ceb93355>\u001b[0m in \u001b[0;36m<module>\u001b[1;34m\u001b[0m\n\u001b[0;32m      6\u001b[0m target_names = [\"airplane \",\"automobile\" ,\"bird\" ,\"cat\" ,\n\u001b[0;32m      7\u001b[0m                     \"deer\" ,\"dog\" ,\"frog\" ,\"horse\",\"ship\",\"truck\"]\n\u001b[1;32m----> 8\u001b[1;33m \u001b[0mprint\u001b[0m\u001b[1;33m(\u001b[0m\u001b[0mclassification_report\u001b[0m\u001b[1;33m(\u001b[0m\u001b[0mY_test\u001b[0m\u001b[1;33m,\u001b[0m \u001b[0my_pred\u001b[0m\u001b[1;33m,\u001b[0m \u001b[0mtarget_names\u001b[0m\u001b[1;33m=\u001b[0m\u001b[0mtarget_names\u001b[0m\u001b[1;33m)\u001b[0m\u001b[1;33m)\u001b[0m\u001b[1;33m\u001b[0m\u001b[1;33m\u001b[0m\u001b[0m\n\u001b[0m",
      "\u001b[1;32mC:\\ProgramData\\Anaconda2\\envs\\stats\\lib\\site-packages\\sklearn\\metrics\\classification.py\u001b[0m in \u001b[0;36mclassification_report\u001b[1;34m(y_true, y_pred, labels, target_names, sample_weight, digits, output_dict)\u001b[0m\n\u001b[0;32m   1522\u001b[0m     \"\"\"\n\u001b[0;32m   1523\u001b[0m \u001b[1;33m\u001b[0m\u001b[0m\n\u001b[1;32m-> 1524\u001b[1;33m     \u001b[0my_type\u001b[0m\u001b[1;33m,\u001b[0m \u001b[0my_true\u001b[0m\u001b[1;33m,\u001b[0m \u001b[0my_pred\u001b[0m \u001b[1;33m=\u001b[0m \u001b[0m_check_targets\u001b[0m\u001b[1;33m(\u001b[0m\u001b[0my_true\u001b[0m\u001b[1;33m,\u001b[0m \u001b[0my_pred\u001b[0m\u001b[1;33m)\u001b[0m\u001b[1;33m\u001b[0m\u001b[1;33m\u001b[0m\u001b[0m\n\u001b[0m\u001b[0;32m   1525\u001b[0m \u001b[1;33m\u001b[0m\u001b[0m\n\u001b[0;32m   1526\u001b[0m     \u001b[0mlabels_given\u001b[0m \u001b[1;33m=\u001b[0m \u001b[1;32mTrue\u001b[0m\u001b[1;33m\u001b[0m\u001b[1;33m\u001b[0m\u001b[0m\n",
      "\u001b[1;32mC:\\ProgramData\\Anaconda2\\envs\\stats\\lib\\site-packages\\sklearn\\metrics\\classification.py\u001b[0m in \u001b[0;36m_check_targets\u001b[1;34m(y_true, y_pred)\u001b[0m\n\u001b[0;32m     79\u001b[0m     \u001b[1;32mif\u001b[0m \u001b[0mlen\u001b[0m\u001b[1;33m(\u001b[0m\u001b[0my_type\u001b[0m\u001b[1;33m)\u001b[0m \u001b[1;33m>\u001b[0m \u001b[1;36m1\u001b[0m\u001b[1;33m:\u001b[0m\u001b[1;33m\u001b[0m\u001b[1;33m\u001b[0m\u001b[0m\n\u001b[0;32m     80\u001b[0m         raise ValueError(\"Classification metrics can't handle a mix of {0} \"\n\u001b[1;32m---> 81\u001b[1;33m                          \"and {1} targets\".format(type_true, type_pred))\n\u001b[0m\u001b[0;32m     82\u001b[0m \u001b[1;33m\u001b[0m\u001b[0m\n\u001b[0;32m     83\u001b[0m     \u001b[1;31m# We can't have more than one value on y_type => The set is no more needed\u001b[0m\u001b[1;33m\u001b[0m\u001b[1;33m\u001b[0m\u001b[1;33m\u001b[0m\u001b[0m\n",
      "\u001b[1;31mValueError\u001b[0m: Classification metrics can't handle a mix of multilabel-indicator and unknown targets"
     ]
    }
   ],
   "source": [
    "y_pred = np_utils.to_categorical(y_pred, nb_classes)\n",
    "\n",
    "#print('Confusion Matrix')\n",
    "#print(confusion_matrix(Y_test, y_pred))\n",
    "print('Classification Report')\n",
    "target_names = [\"airplane \",\"automobile\" ,\"bird\" ,\"cat\" ,\n",
    "                    \"deer\" ,\"dog\" ,\"frog\" ,\"horse\",\"ship\",\"truck\"]\n",
    "print(classification_report(Y_test, y_pred, target_names=target_names))"
   ]
  },
  {
   "cell_type": "markdown",
   "metadata": {},
   "source": [
    "#### Save model for deployment"
   ]
  },
  {
   "cell_type": "code",
   "execution_count": null,
   "metadata": {},
   "outputs": [],
   "source": [
    "model.save('./models/keras-resnet50_25eps.pkl')"
   ]
  }
 ],
 "metadata": {
  "kernelspec": {
   "display_name": "Python 3",
   "language": "python",
   "name": "python3"
  },
  "language_info": {
   "codemirror_mode": {
    "name": "ipython",
    "version": 3
   },
   "file_extension": ".py",
   "mimetype": "text/x-python",
   "name": "python",
   "nbconvert_exporter": "python",
   "pygments_lexer": "ipython3",
   "version": "3.6.8"
  }
 },
 "nbformat": 4,
 "nbformat_minor": 2
}
